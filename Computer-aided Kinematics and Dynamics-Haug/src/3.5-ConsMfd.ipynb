{
 "cells": [
  {
   "cell_type": "code",
   "execution_count": 1,
   "metadata": {},
   "outputs": [
    {
     "data": {
      "text/plain": [
       "skew (generic function with 1 method)"
      ]
     },
     "metadata": {},
     "output_type": "display_data"
    }
   ],
   "source": [
    "using LinearAlgebra, SymPy\n",
    "# 必要函数\n",
    "function skew(V)\n",
    "    return [[0, V[3], -V[2]] [-V[3], 0, V[1]] [V[2], -V[1], 0]]\n",
    "end"
   ]
  },
  {
   "cell_type": "code",
   "execution_count": 2,
   "metadata": {},
   "outputs": [
    {
     "data": {
      "text/latex": [
       "$\\left[\\begin{smallmatrix}x\\\\y\\\\z\\end{smallmatrix}\\right]$"
      ],
      "text/plain": [
       "[x]\n",
       "[ ]\n",
       "[y]\n",
       "[ ]\n",
       "[z]"
      ]
     },
     "metadata": {},
     "output_type": "display_data"
    }
   ],
   "source": [
    "# 定义约束\n",
    "@vars x y z\n",
    "q = [x, y, z] # Particle\n",
    "Phi = (sum(q.*q) - 1)/2 # Constraint\n",
    "Phiq = diff(Phi, q)"
   ]
  },
  {
   "cell_type": "code",
   "execution_count": 3,
   "metadata": {},
   "outputs": [
    {
     "data": {
      "text/plain": [
       "3×2 Matrix{Float64}:\n",
       "  0.0        0.962596\n",
       " -0.681946  -0.198168\n",
       "  0.731402  -0.184768"
      ]
     },
     "metadata": {},
     "output_type": "display_data"
    }
   ],
   "source": [
    "# 构建切空间\n",
    "q0 = rand(Float64, (3, 1))\n",
    "q0 = q0/norm(q0)\n",
    "ux = [1, 0, 0]\n",
    "V1 = skew(ux)*q0\n",
    "V1 = V1/norm(V1)\n",
    "V2 = skew(q0)*V1\n",
    "V2 = V2/norm(V2)\n",
    "U = [Phiq[0](x=>q0[1], y=>q0[2], z=>q0[3]), Phiq[1](x=>q0[1], y=>q0[2], z=>q0[3]), Phiq[2](x=>q0[1], y=>q0[2], z=>q0[3])]\n",
    "V = [V1 V2]"
   ]
  }
 ],
 "metadata": {
  "kernelspec": {
   "display_name": "Julia 1.9.2",
   "language": "julia",
   "name": "julia-1.9"
  },
  "language_info": {
   "file_extension": ".jl",
   "mimetype": "application/julia",
   "name": "julia",
   "version": "1.9.2"
  },
  "orig_nbformat": 4
 },
 "nbformat": 4,
 "nbformat_minor": 2
}
