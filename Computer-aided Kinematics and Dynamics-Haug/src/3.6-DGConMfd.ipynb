{
 "cells": [
  {
   "cell_type": "code",
   "execution_count": 1,
   "metadata": {},
   "outputs": [
    {
     "data": {
      "text/plain": [
       "comp_ddv (generic function with 1 method)"
      ]
     },
     "metadata": {},
     "output_type": "display_data"
    }
   ],
   "source": [
    "using LinearAlgebra, Plots\n",
    "# 函数定义\n",
    "@inline function get_Phi(q)\n",
    "    return (q'*q .- 1)/2\n",
    "end\n",
    "\n",
    "@inline function get_Phiq(q)\n",
    "    return q'\n",
    "end\n",
    "\n",
    "function comp_u(q0, U, V, B, u, v, utol)\n",
    "    gamma = get_Phi(q0 + V*v - U*u)\n",
    "    while norm(gamma) > utol\n",
    "        u = u .+ B*gamma\n",
    "        gamma = get_Phi(q0 + V*v - U*u)\n",
    "    end\n",
    "    return u\n",
    "end\n",
    "\n",
    "function comp_B(q, U, B, Btol)\n",
    "    PhiqU = get_Phiq(q)*U\n",
    "    gamma = PhiqU*B\n",
    "    eye = I(size(gamma, 1))\n",
    "    while norm(gamma .- eye) > Btol\n",
    "        B = 2*B .- B*gamma\n",
    "        gamma = PhiqU*B\n",
    "    end\n",
    "    return B\n",
    "end\n",
    "\n",
    "function comp_D(q0, V, q)\n",
    "    q0qT = q0*q'\n",
    "    return (I(size(q0qT, 1)) - q0qT./(q'*q0))*V\n",
    "end\n",
    "\n",
    "function comp_ddq(q0, D, q, dq, ddv)\n",
    "    return D*ddv - (dq'*dq)./(q'*q0)*q0\n",
    "end\n",
    "\n",
    "function comp_ddv(q0, D, q, dq)\n",
    "    m = 1 # 质量\n",
    "    g = 9.8 # 重力加速度\n",
    "    uz = [0.5; 0; 1] # 重力方向\n",
    "    M = m*D'*D\n",
    "    N = m*D'*(dq'*dq)/(q'*q0)*q0-m*g*D'*uz\n",
    "    return M\\N\n",
    "end"
   ]
  },
  {
   "cell_type": "code",
   "execution_count": 2,
   "metadata": {},
   "outputs": [
    {
     "data": {
      "text/plain": [
       "3×10001 Matrix{Float64}:\n",
       " 0.0  0.0  0.0  0.0  0.0  0.0  0.0  0.0  …  0.0  0.0  0.0  0.0  0.0  0.0  0.0\n",
       " 0.0  0.0  0.0  0.0  0.0  0.0  0.0  0.0     0.0  0.0  0.0  0.0  0.0  0.0  0.0\n",
       " 0.0  0.0  0.0  0.0  0.0  0.0  0.0  0.0     0.0  0.0  0.0  0.0  0.0  0.0  0.0"
      ]
     },
     "metadata": {},
     "output_type": "display_data"
    }
   ],
   "source": [
    "# 参数设置\n",
    "q0 = [0; 0; 1]\n",
    "dq = [0; 1; 0]\n",
    "utol = 1e-7\n",
    "Btol = 1e-7\n",
    "tStep = 1e-3\n",
    "tList = collect(0:tStep:10)\n",
    "qList = zeros((3, length(tList)))"
   ]
  },
  {
   "cell_type": "code",
   "execution_count": 3,
   "metadata": {},
   "outputs": [
    {
     "data": {
      "text/plain": [
       "2-element Vector{Float64}:\n",
       " 0.0\n",
       " 4.9"
      ]
     },
     "metadata": {},
     "output_type": "display_data"
    }
   ],
   "source": [
    "# 初始化\n",
    "qList[:, 1] = deepcopy(q0)\n",
    "q = deepcopy(q0)\n",
    "U = deepcopy(q0)\n",
    "V = nullspace(U')\n",
    "B = inv(U'*U)\n",
    "u = -U'*(q - q0)\n",
    "v = V'*(q - q0)\n",
    "D = comp_D(q0, V, q)\n",
    "dv = D\\dq\n",
    "ddv = comp_ddv(q0, D, q, dq)"
   ]
  },
  {
   "cell_type": "code",
   "execution_count": 4,
   "metadata": {},
   "outputs": [],
   "source": [
    "# 迭代计算\n",
    "for t = 2:length(tList)\n",
    "    if norm(v) > 0.75\n",
    "        q0 = deepcopy(q)\n",
    "        U = deepcopy(q0)\n",
    "        V = nullspace(U')\n",
    "        B = inv(U'*U)\n",
    "        u = -U'*(q - q0)\n",
    "        v = V'*(q - q0)\n",
    "        D = comp_D(q0, V, q)\n",
    "        dv = D\\dq\n",
    "        ddv = comp_ddv(q0, D, q, dq)\n",
    "    end\n",
    "    v = v + tStep*dv\n",
    "    dv = dv + tStep*ddv\n",
    "    B = comp_B(q, U, B, Btol)\n",
    "    u = comp_u(q0, U, V, B, u, v, utol)\n",
    "    q = q0 + V*v - U*u\n",
    "    qList[:, t] = deepcopy(q)\n",
    "    D = comp_D(q0, V, q)\n",
    "    dq = D*dv\n",
    "    ddv = comp_ddv(q0, D, q, dq)\n",
    "end"
   ]
  },
  {
   "cell_type": "code",
   "execution_count": 5,
   "metadata": {},
   "outputs": [
    {
     "data": {
      "text/plain": [
       "\"c:\\\\Users\\\\17739\\\\Git\\\\Kinematics-Dynamics\\\\Computer-aided Kinematics and Dynamics-Haug\\\\src\\\\3.6-fig1.png\""
      ]
     },
     "metadata": {},
     "output_type": "display_data"
    }
   ],
   "source": [
    "# 作图\n",
    "plot(tList, [qList[1, :] qList[2, :] qList[3, :]])\n",
    "xlabel!(\"t\")\n",
    "savefig(\"3.6-fig1.png\")"
   ]
  }
 ],
 "metadata": {
  "kernelspec": {
   "display_name": "Julia 1.9.2",
   "language": "julia",
   "name": "julia-1.9"
  },
  "language_info": {
   "file_extension": ".jl",
   "mimetype": "application/julia",
   "name": "julia",
   "version": "1.9.2"
  },
  "orig_nbformat": 4
 },
 "nbformat": 4,
 "nbformat_minor": 2
}
