{
 "cells": [
  {
   "cell_type": "code",
   "execution_count": 10,
   "metadata": {},
   "outputs": [
    {
     "data": {
      "text/plain": [
       "compB (generic function with 1 method)"
      ]
     },
     "metadata": {},
     "output_type": "display_data"
    }
   ],
   "source": [
    "using LinearAlgebra, Plots\n",
    "# 函数定义\n",
    "function getPhi(q)\n",
    "    return (q'*q - 1)/2\n",
    "end\n",
    "\n",
    "function getPhiq(q)\n",
    "    return q'\n",
    "end\n",
    "\n",
    "function getU(q0)\n",
    "    return q\n",
    "end\n",
    "\n",
    "function getV(q0)\n",
    "    return nullspace(getU(q0)')\n",
    "end\n",
    "\n",
    "function compu(q0, U, V, v, utol)\n",
    "    u = U\\(V*v)\n",
    "    B = inv(U'*U)\n",
    "    gamma = getPhi(q + V*v - U*u)\n",
    "    while norm(gamma) > utol\n",
    "        u = u + B*gamma\n",
    "        gamma = getPhi(q + V*v - U*u)\n",
    "    end\n",
    "    return u\n",
    "end\n",
    "\n",
    "function compB(q, Btol)\n",
    "    U = getU(q)\n",
    "    B = inv(U'*U)\n",
    "    gamma = \n",
    "    while norm\n",
    "end"
   ]
  },
  {
   "cell_type": "code",
   "execution_count": 2,
   "metadata": {},
   "outputs": [
    {
     "data": {
      "text/plain": [
       "2-element Vector{Float64}:\n",
       " 1.0\n",
       " 3.0"
      ]
     },
     "metadata": {},
     "output_type": "display_data"
    }
   ],
   "source": [
    "m = 1\n",
    "g = 9.8\n",
    "q0 = [0; 0; 1]\n",
    "uz = [0; 0; 1]\n",
    "dq0 = [0; 1; 0]\n",
    "utol = 1e-7\n",
    "Btol = 1e-7\n",
    "tEnd = 10\n",
    "tStep = 1e-3\n"
   ]
  }
 ],
 "metadata": {
  "kernelspec": {
   "display_name": "Julia 1.9.2",
   "language": "julia",
   "name": "julia-1.9"
  },
  "language_info": {
   "file_extension": ".jl",
   "mimetype": "application/julia",
   "name": "julia",
   "version": "1.9.2"
  },
  "orig_nbformat": 4
 },
 "nbformat": 4,
 "nbformat_minor": 2
}
