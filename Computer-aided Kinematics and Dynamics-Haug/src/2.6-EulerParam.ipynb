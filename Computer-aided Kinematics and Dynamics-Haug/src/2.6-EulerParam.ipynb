{
 "cells": [
  {
   "cell_type": "code",
   "execution_count": 1,
   "metadata": {},
   "outputs": [
    {
     "data": {
      "text/plain": [
       "B (generic function with 1 method)"
      ]
     },
     "metadata": {},
     "output_type": "display_data"
    }
   ],
   "source": [
    "using LinearAlgebra, SymPy\n",
    "# 必要函数\n",
    "@inline function skew(V)\n",
    "    return [[0, V[3], -V[2]] [-V[3], 0, V[1]] [V[2], -V[1], 0]]\n",
    "end\n",
    "\n",
    "function E(p)\n",
    "    e0 = p[1]\n",
    "    e = p[2:4]\n",
    "    return [-e skew(e) + e0*I(3)]\n",
    "end\n",
    "\n",
    "function G(p)\n",
    "    e0 = p[1]\n",
    "    e = p[2:4]\n",
    "    return [-e -skew(e) + e0*I(3)]\n",
    "end\n",
    "\n",
    "@inline function T(a)\n",
    "    return [0 -a'; a -skew(a)]\n",
    "end\n",
    "\n",
    "@inline function B(p, a)\n",
    "    return 2*E(p)*T(a)\n",
    "end"
   ]
  },
  {
   "cell_type": "code",
   "execution_count": 2,
   "metadata": {},
   "outputs": [
    {
     "name": "stdout",
     "output_type": "stream",
     "text": [
      "2*e0i*e0j + 2*xi*xj*Derivative(adjoint(a1), a1) - 2*yi*yj - 2*zi*zj\n",
      "2*e0i*zj + 2*e0j*zi + 2*xi*yj + 2*xj*yi*Derivative(adjoint(a1), a1)\n",
      "-2*e0i*yj - 2*e0j*yi + 2*xi*zj + 2*xj*zi*Derivative(adjoint(a1), a1)\n",
      "-2*e0i*zj - 2*e0j*zi + 2*xi*yj*Derivative(adjoint(a2), a2) + 2*xj*yi\n",
      "2*e0i*e0j - 2*xi*xj + 2*yi*yj*Derivative(adjoint(a2), a2) - 2*zi*zj\n",
      "2*e0i*xj + 2*e0j*xi + 2*yi*zj + 2*yj*zi*Derivative(adjoint(a2), a2)"
     ]
    },
    {
     "name": "stdout",
     "output_type": "stream",
     "text": [
      "\n",
      "2*e0i*yj + 2*e0j*yi + 2*xi*zj*Derivative(adjoint(a3), a3) + 2*xj*zi\n",
      "-2*e0i*xj - 2*e0j*xi + 2*yi*zj*Derivative(adjoint(a3), a3) + 2*yj*zi\n",
      "2*e0i*e0j - 2*xi*xj - 2*yi*yj + 2*zi*zj*Derivative(adjoint(a3), a3)\n"
     ]
    },
    {
     "name": "stdout",
     "output_type": "stream",
     "text": [
      "2*e0i*adjoint(e0j) + 2*xi*adjoint(xj) - 2*yi*adjoint(yj) - 2*zi*adjoint(zj)\n"
     ]
    }
   ],
   "source": [
    "@vars xi yi zi e0i xj yj zj e0j a1 a2 a3\n",
    "pi = [e0i; xi; yi; zi]\n",
    "pj = [e0j; xj; yj; zj]\n",
    "a = [a1; a2; a3]\n",
    "eq1 = B(pi, a)*pj\n",
    "for num = 1:3\n",
    "    println(diff(eq1[num], a1))\n",
    "end\n",
    "for num = 1:3\n",
    "    println(diff(eq1[num], a2))\n",
    "end\n",
    "for num = 1:3\n",
    "    println(diff(eq1[num], a3))\n",
    "end\n",
    "eq2 = 2*E(pi)*G(pj)'\n",
    "println(eq2[1, 1])"
   ]
  }
 ],
 "metadata": {
  "kernelspec": {
   "display_name": "Julia 1.9.2",
   "language": "julia",
   "name": "julia-1.9"
  },
  "language_info": {
   "file_extension": ".jl",
   "mimetype": "application/julia",
   "name": "julia",
   "version": "1.9.2"
  },
  "orig_nbformat": 4
 },
 "nbformat": 4,
 "nbformat_minor": 2
}
