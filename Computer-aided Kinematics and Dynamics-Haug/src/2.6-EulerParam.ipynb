{
 "cells": [
  {
   "cell_type": "code",
   "execution_count": 15,
   "metadata": {},
   "outputs": [
    {
     "data": {
      "text/plain": [
       "skew (generic function with 1 method)"
      ]
     },
     "metadata": {},
     "output_type": "display_data"
    }
   ],
   "source": [
    "using LinearAlgebra, SymPy\n",
    "# 必要函数\n",
    "function skew(V)\n",
    "    return [[0, V[3], -V[2]] [-V[3], 0, V[1]] [V[2], -V[1], 0]]\n",
    "end"
   ]
  },
  {
   "cell_type": "code",
   "execution_count": 16,
   "metadata": {},
   "outputs": [
    {
     "data": {
      "text/latex": [
       "$\\left[ \\begin{array}{rrr}e_{0}^{2} - x^{2} + 2 x \\operatorname{transpose}{\\left(x \\right)} - y^{2} - z^{2}&- 2 e_{0} z + 2 x \\operatorname{transpose}{\\left(y \\right)}&2 e_{0} y + 2 x \\operatorname{transpose}{\\left(z \\right)}\\\\2 e_{0} z + 2 y \\operatorname{transpose}{\\left(x \\right)}&e_{0}^{2} - x^{2} - y^{2} + 2 y \\operatorname{transpose}{\\left(y \\right)} - z^{2}&- 2 e_{0} x + 2 y \\operatorname{transpose}{\\left(z \\right)}\\\\- 2 e_{0} y + 2 z \\operatorname{transpose}{\\left(x \\right)}&2 e_{0} x + 2 z \\operatorname{transpose}{\\left(y \\right)}&e_{0}^{2} - x^{2} - y^{2} - z^{2} + 2 z \\operatorname{transpose}{\\left(z \\right)}\\end{array}\\right]$\n"
      ],
      "text/plain": [
       "3×3 Matrix{Sym}:\n",
       " e0^2 - x^2 + 2*x*transpose(x) - y^2 - z^2  …                  2*e0*y + 2*x*transpose(z)\n",
       "                 2*e0*z + 2*y*transpose(x)                    -2*e0*x + 2*y*transpose(z)\n",
       "                -2*e0*y + 2*z*transpose(x)     e0^2 - x^2 - y^2 - z^2 + 2*z*transpose(z)"
      ]
     },
     "metadata": {},
     "output_type": "display_data"
    }
   ],
   "source": [
    "@vars x y z e0\n",
    "e = [x; y; z]\n",
    "p = [e0; e]\n",
    "A = (e0^2 - sum(e.*e))*I(3) + 2*e*transpose(e) + 2*e0*skew(e)"
   ]
  },
  {
   "cell_type": "code",
   "execution_count": 19,
   "metadata": {},
   "outputs": [
    {
     "name": "stdout",
     "output_type": "stream",
     "text": [
      "Sym[e0*adjoint(e0) + x*adjoint(x) - y*adjoint(y) - z*adjoint(z) -e0*adjoint(z) + x*adjoint(y) + y*adjoint(x) - z*adjoint(e0) e0*adjoint(y) + x*adjoint(z) + y*adjoint(e0) + z*adjoint(x); e0*adjoint(z) + x*adjoint(y) + y*adjoint(x) + z*adjoint(e0) e0*adjoint(e0) - x*adjoint(x) + y*adjoint(y) - z*adjoint(z) -e0*adjoint(x) - x*adjoint(e0) + y*adjoint(z) + z*adjoint(y); -e0*adjoint(y) + x*adjoint(z) - y*adjoint(e0) + z*adjoint(x) e0*adjoint(x) + x*adjoint(e0) + y*adjoint(z) + z*adjoint(y) e0*adjoint(e0) - x*adjoint(x) - y*adjoint(y) + z*adjoint(z)]\n",
      "Sym[e0*adjoint(e0) + x*adjoint(x) + y*adjoint(y) + z*adjoint(z) e0*adjoint(z) + x*adjoint(y) - y*adjoint(x) - z*adjoint(e0) -e0*adjoint(y) + x*adjoint(z) + y*adjoint(e0) - z*adjoint(x); -e0*adjoint(z) - x*adjoint(y) + y*adjoint(x) + z*adjoint(e0) e0*adjoint(e0) + x*adjoint(x) + y*adjoint(y) + z*adjoint(z) e0*adjoint(x) - x*adjoint(e0) + y*adjoint(z) - z*adjoint(y); e0*adjoint(y) - x*adjoint(z) - y*adjoint(e0) + z*adjoint(x) -e0*adjoint(x) + x*adjoint(e0) - y*adjoint(z) + z*adjoint(y) e0*adjoint(e0) + x*adjoint(x) + y*adjoint(y) + z*adjoint(z)]\n"
     ]
    }
   ],
   "source": [
    "E = [-e skew(e) + e0*I(3)]\n",
    "G = [-e -skew(e) + e0*I(3)]\n",
    "println(E*G')\n",
    "println(E*p)\n",
    "println(G*p)"
   ]
  }
 ],
 "metadata": {
  "kernelspec": {
   "display_name": "Julia 1.9.2",
   "language": "julia",
   "name": "julia-1.9"
  },
  "language_info": {
   "file_extension": ".jl",
   "mimetype": "application/julia",
   "name": "julia",
   "version": "1.9.2"
  },
  "orig_nbformat": 4
 },
 "nbformat": 4,
 "nbformat_minor": 2
}
